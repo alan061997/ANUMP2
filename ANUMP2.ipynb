{
 "cells": [
  {
   "cell_type": "code",
   "execution_count": 30,
   "metadata": {
    "collapsed": true
   },
   "outputs": [],
   "source": [
    "from sympy.solvers import solve\n",
    "from sympy.parsing.sympy_parser import parse_expr, stringify_expr\n",
    "from sympy.parsing.sympy_parser import standard_transformations\n",
    "from sympy.parsing.sympy_parser import implicit_multiplication_application\n",
    "from sympy import Symbol\n",
    "from sympy import *\n",
    "from numpy import *\n",
    "from sympy.functions.elementary.exponential import exp\n",
    "import math\n",
    "import string\n",
    "import matplotlib.pyplot as plt\n",
    "\n",
    "transformations = (standard_transformations + (implicit_multiplication_application,))\n",
    "\n",
    "def is_number(num):\n",
    "    try:\n",
    "        float(num)\n",
    "        if float(num) >= 0 and float(num) <= 100:\n",
    "            return True\n",
    "        else:\n",
    "            print (\"No es un numero positivo\")\n",
    "            return False\n",
    "    except ValueError:\n",
    "        print (\"No es un numero\")\n",
    "        return False\n",
    "\n",
    "def eval_pars(eq_str, val):\n",
    "    #print (\"eval_pars .... inicio\")\n",
    "    x = Symbol('x')\n",
    "    e = Symbol('e')\n",
    "    try:\n",
    "        ecuacion = parse_expr(eq_str, transformations = transformations)\n",
    "        syms = list(ecuacion.free_symbols)\n",
    "    #   print (\"eval_pars .... fin\")\n",
    "        return ecuacion.subs({x:val, e:2.7182818284590452353602874713527})\n",
    "    except:\n",
    "        print (\"No escribio la ecuacion correctamente.\")\n",
    "    #    print (\"eval_pars .... fin\")\n",
    "    return False\n",
    "\n",
    "#by Baruc\n",
    "def eval_parse(eq_str, val):\n",
    "    #print (\"eval_parse .... inicio\")\n",
    "    try:\n",
    "        x = val\n",
    "        return eval(eq_str)\n",
    "    except:\n",
    "        print (\"No escribio la ecuacion correctamente.\")\n",
    "    #    print (\"eval_parse .... fin\")\n",
    "    return False\n",
    "\n",
    "def val_x1_xu(eq_str, x1, xu):\n",
    "    fx1 = eval_parse(eq_str, x1)\n",
    "    fxu = eval_parse(eq_str, xu)\n",
    "    print(\"f(X1) = \", fx1)\n",
    "    print(\"f(Xu) = \", fxu)\n",
    "    fx1_xu = fx1 * fxu\n",
    "    if fx1 > 0 and fxu > 0:\n",
    "        print (\"La raiz no se encuentra en este rango.\")\n",
    "        print (\"f(X1) = Positivo\")\n",
    "        print (\"f(XU) = Positivo\")\n",
    "        return False\n",
    "    elif fx1 < 0 and fxu < 0:\n",
    "        print (\"La raiz no se encuentra en este rango.\")\n",
    "        print (\"f(X1) = Negativo\")\n",
    "        print (\"f(XU) = Negativo\")\n",
    "        return False\n",
    "    elif fx1 < 0 and fxu > 0:\n",
    "        return 1\n",
    "    elif fx1 > 0 and fxu < 0:\n",
    "        return 2\n",
    "\n",
    "def validacion(eq_str, x1, xu, ea):\n",
    "    while eval_parse(eq_str, 1) == False:\n",
    "        eq_str = input(\"Introduce la equacion: \")\n",
    "    while val_x1_xu(eq_str, x1, xu) == False:\n",
    "        x1 = input(\"El limite inferior de la seccion (X1): \")\n",
    "        xu = input(\"El limite superior de la seccion (Xu): \")\n",
    "    if val_x1_xu(eq_str, x1, xu) == 2:\n",
    "        print (\"Se han intercambiado los valores de X1 y Xu.\")\n",
    "        x1,xu = xu,x1\n",
    "    while is_number(ea) == False:\n",
    "        ea = input(\"El error deseado (Ea): \")\n",
    "    return eq_str,x1,xu,ea\n",
    "\n",
    "def error_aproximado(xr_old, xr_new):\n",
    "    try:\n",
    "        if xr_new == 0:\n",
    "            error = 100\n",
    "        else:\n",
    "            error = abs((((xr_new - xr_old)/ xr_new)*100))\n",
    "        return error\n",
    "    except:\n",
    "        print (\"Error en la aproximacion\")\n",
    "        return 0\n",
    "\n",
    "\n",
    "def reemplazo(eq_str, xr_new, x1, xu):\n",
    "    fx1=eval_parse(eq_str, x1)\n",
    "    fxrnew=eval_parse(eq_str, xr_new)\n",
    "    fx1_xrnew = fx1 * fxrnew\n",
    "    if fx1_xrnew > 0:\n",
    "        x1 = xr_new\n",
    "        return x1, xu\n",
    "    elif fx1_xrnew < 0:\n",
    "        xu = xr_new\n",
    "        return x1, xu\n",
    "    else:\n",
    "        return x1, xu\n",
    "    \n",
    "def grafica(eq_str, x1, xu):\n",
    "    xl = [i for i in range(x1, xu)]\n",
    "    #yl = [eval_pars(eq_str, x) for x in xl]\n",
    "    yl = [eval_parse(eq_str, x) for x in xl]\n",
    "    plt.plot(xl, yl)\n",
    "    plt.show()\n",
    "\n",
    "def graficas(eq_strs, x1, xu):\n",
    "    colors = ['r','g','b']\n",
    "    xl = [i for i in range(x1, xu)]\n",
    "    for eq_str, col in zip(eq_strs, colors):\n",
    "        yl = [eval_parse(eq_str, x) for x in xl]\n",
    "        plt.plot(xl, yl, col)\n",
    "    plt.show()\n",
    "\n",
    "def biseccion():\n",
    "    # Input ecuacion\n",
    "    eq_str = input(\"Introduce la equacion: \")\n",
    "    #eq_str = eq_str.replace(\"e\", repr(e))\n",
    "    #print (eq_str)\n",
    "    # Definicion del contador iteracion para medir al infinito\n",
    "    iteracion = 0\n",
    "    \n",
    "    # Definicion de los rangos X1 y Xu\n",
    "    x1 = float(input(\"El limite inferior de la seccion (X1): \"))\n",
    "    xu = float(input(\"El limite superior de la seccion (Xu): \"))\n",
    "    \n",
    "    # Definicion del valor deseado\n",
    "    ed = (input(\"El error deseado (Ed): \"))\n",
    "    \n",
    "    #Validacion del error deseado, con 0 se itera de manera indefinida\n",
    "    if ed == 0:\n",
    "        ed = 0.000001\n",
    "    \n",
    "    # LLamada a la funcion de validacion para las variables\n",
    "    eq_str,x1,xu,ed = validacion(eq_str, x1, xu, ed)\n",
    "   \n",
    "    # Definicion de la funciones f(X1) y f(Xu)\n",
    "    fx1 = eval_parse(eq_str, x1)\n",
    "    fxu = eval_parse(eq_str, xu)\n",
    "    print(fx1, fxu)\n",
    "\n",
    "    # Redefinicion de el tipo de variable de los errores\n",
    "    ed = float(ed)\n",
    "    ea = float(100)\n",
    "    \n",
    "    # Definicion de las variables Xr y f(Xr)\n",
    "    xr_old = 0\n",
    "    xr_new = float((float(x1)+float(xu))/2)\n",
    "    fxr = eval_parse(eq_str, xr_new)\n",
    "    \n",
    "    # Validacion de las reglas para X1 y Xu\n",
    "    x1,xu = reemplazo(eq_str, xr_new, x1, xu)\n",
    "    \n",
    "    # Calculo del error aproximado\n",
    "    ea = error_aproximado(xr_old, xr_new)\n",
    "    \n",
    "    # Incrementa el conteo de la iteracion\n",
    "    iteracion += 0\n",
    "    \n",
    "    # Validacion de raices en f(X1), f(Xu) y f(Xr)\n",
    "    if fx1 == 0:\n",
    "        ea = 0\n",
    "        xr_new = x1\n",
    "        print(\"\\t[Datos - Iteracion {}]\\nX1 = {}\\tXu= {}\\nXr = {}\\t Ea = {}%\".format(iteracion, x1, xu, xr_new, ea))\n",
    "        return 1\n",
    "    elif fxu == 0:\n",
    "        ea = 0\n",
    "        xr_new = xu\n",
    "        print(\"\\t[Datos - Iteracion {}]\\nX1 = {}\\tXu= {}\\nXr = {}\\t Ea = {}%\".format(iteracion, x1, xu, xr_new, ea))\n",
    "        return 2\n",
    "    elif fxr == 0:\n",
    "        ea = 0\n",
    "        print(\"\\t[Datos - Iteracion {}]\\nX1 = {}\\tXu= {}\\nXr = {}\\t Ea = {}%\".format(iteracion, x1, xu, xr_new, ea))\n",
    "        return 3\n",
    "    \n",
    "    # Impresion de los datos\n",
    "    print(\"\\t[Datos - Iteracion {}]\\nX1 = {}\\tXu= {}\\nXr = {}\\t Ea = {}%\".format(iteracion, x1, xu, xr_new, ea))\n",
    "        \n",
    "    while (ea >= ed):\n",
    "        xr_old = xr_new\n",
    "        xr_new = (float(x1)+float(xu))/2\n",
    "        ea = error_aproximado(xr_old, xr_new)\n",
    "        iteracion += 1\n",
    "        print(\"\\n\\t[Datos - Iteracion {}]\\nX1 = {}\\tXu= {}\\nXr = {}\\t Ea = {}%\".format(iteracion, x1, xu, xr_new, ea))\n",
    "        x1,xu = reemplazo(eq_str, xr_new, x1, xu)\n",
    "        fxr = eval_parse(eq_str, xr_new)\n",
    "        if fxr == 0:\n",
    "            ea = 0\n",
    "            return 3.1\n",
    "    return 0    "
   ]
  },
  {
   "cell_type": "code",
   "execution_count": 27,
   "metadata": {},
   "outputs": [
    {
     "name": "stdout",
     "output_type": "stream",
     "text": [
      "Introduce la equacion: e**(-x)-x + sin(x)+10\n",
      "2.718281828459045**(-x)-x + sin(x)+10\n",
      "El limite inferior de la seccion (X1): 0\n",
      "El limite superior de la seccion (Xu): 15\n",
      "El error deseado (Ed): 0.1\n",
      "f(X1) =  11\n",
      "f(Xu) =  -4.349711853940563\n",
      "f(X1) =  11\n",
      "f(Xu) =  -4.349711853940563\n",
      "Se han intercambiado los valores de X1 y Xu.\n",
      "-4.349711853940563 11\n",
      "\t[Datos - Iteracion 0]\n",
      "X1 = 15.0\tXu= 7.5\n",
      "Xr = 7.5\t Ea = 100.0%\n",
      "\n",
      "\t[Datos - Iteracion 1]\n",
      "X1 = 15.0\tXu= 7.5\n",
      "Xr = 11.25\t Ea = 33.33333333333333%\n",
      "\n",
      "\t[Datos - Iteracion 2]\n",
      "X1 = 11.25\tXu= 7.5\n",
      "Xr = 9.375\t Ea = 20.0%\n",
      "\n",
      "\t[Datos - Iteracion 3]\n",
      "X1 = 11.25\tXu= 9.375\n",
      "Xr = 10.3125\t Ea = 9.090909090909092%\n",
      "\n",
      "\t[Datos - Iteracion 4]\n",
      "X1 = 10.3125\tXu= 9.375\n",
      "Xr = 9.84375\t Ea = 4.761904761904762%\n",
      "\n",
      "\t[Datos - Iteracion 5]\n",
      "X1 = 9.84375\tXu= 9.375\n",
      "Xr = 9.609375\t Ea = 2.4390243902439024%\n",
      "\n",
      "\t[Datos - Iteracion 6]\n",
      "X1 = 9.84375\tXu= 9.609375\n",
      "Xr = 9.7265625\t Ea = 1.2048192771084338%\n",
      "\n",
      "\t[Datos - Iteracion 7]\n",
      "X1 = 9.7265625\tXu= 9.609375\n",
      "Xr = 9.66796875\t Ea = 0.6060606060606061%\n",
      "\n",
      "\t[Datos - Iteracion 8]\n",
      "X1 = 9.7265625\tXu= 9.66796875\n",
      "Xr = 9.697265625\t Ea = 0.3021148036253776%\n",
      "\n",
      "\t[Datos - Iteracion 9]\n",
      "X1 = 9.7265625\tXu= 9.697265625\n",
      "Xr = 9.7119140625\t Ea = 0.1508295625942685%\n",
      "\n",
      "\t[Datos - Iteracion 10]\n",
      "X1 = 9.7265625\tXu= 9.7119140625\n",
      "Xr = 9.71923828125\t Ea = 0.07535795026375283%\n"
     ]
    },
    {
     "data": {
      "text/plain": [
       "0"
      ]
     },
     "execution_count": 27,
     "metadata": {},
     "output_type": "execute_result"
    }
   ],
   "source": [
    "#si se tienen ambas raices en una cuadratica en el rango, no puede encontrarlas (Hay que atrapar solo una raíz)\n",
    "\n",
    "biseccion()"
   ]
  },
  {
   "cell_type": "code",
   "execution_count": 26,
   "metadata": {},
   "outputs": [
    {
     "data": {
      "image/png": "[encoded data removed]",
      "text/plain": [
       "<matplotlib.figure.Figure at 0x7ff85f31bbe0>"
      ]
     },
     "metadata": {},
     "output_type": "display_data"
    }
   ],
   "source": [
    "grafica(\"e**(-x)-x + sin(x)+10\", 0, 20)"
   ]
  },
  {
   "cell_type": "markdown",
   "metadata": {},
   "source": [
    "* Hacer validacion en caso de el nivel de la ecuacion sea par:\n",
    "    Ejemplo:\n",
    "        -> x^0, x^2, x^2n\n",
    "> Esto se hace para revisar si tiene raices reales con intercepcion en el eje x"
   ]
  },
  {
   "cell_type": "code",
   "execution_count": 29,
   "metadata": {},
   "outputs": [
    {
     "data": {
      "text/plain": [
       "-0.0094016067644062673"
      ]
     },
     "execution_count": 29,
     "metadata": {},
     "output_type": "execute_result"
    }
   ],
   "source": [
    "x = 9.71923828125\n",
    "eval_parse(\"e**(-x)-x + sin(x)+10\", x)"
   ]
  },
  {
   "cell_type": "code",
   "execution_count": 36,
   "metadata": {},
   "outputs": [
    {
     "data": {
      "image/png": "[encoded data removed]",
      "text/plain": [
       "<matplotlib.figure.Figure at 0x7ff85f37b3c8>"
      ]
     },
     "metadata": {},
     "output_type": "display_data"
    }
   ],
   "source": [
    "graficas([\"x**2 - 5\", \"10\", \"10*sin(x)\"], 0, 10)"
   ]
  },
  {
   "cell_type": "code",
   "execution_count": null,
   "metadata": {
    "collapsed": true
   },
   "outputs": [],
   "source": []
  }
 ],
 "metadata": {
  "kernelspec": {
   "display_name": "Python 3",
   "language": "python",
   "name": "python3"
  },
  "language_info": {
   "codemirror_mode": {
    "name": "ipython",
    "version": 3
   },
   "file_extension": ".py",
   "mimetype": "text/x-python",
   "name": "python",
   "nbconvert_exporter": "python",
   "pygments_lexer": "ipython3",
   "version": "3.5.2"
  }
 },
 "nbformat": 4,
 "nbformat_minor": 2
}
